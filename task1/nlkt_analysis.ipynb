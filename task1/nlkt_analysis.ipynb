{
 "metadata": {
  "language_info": {
   "codemirror_mode": {
    "name": "ipython",
    "version": 3
   },
   "file_extension": ".py",
   "mimetype": "text/x-python",
   "name": "python",
   "nbconvert_exporter": "python",
   "pygments_lexer": "ipython3",
   "version": "3.8.2-final"
  },
  "orig_nbformat": 2,
  "kernelspec": {
   "name": "python_defaultSpec_1600600571039",
   "display_name": "Python 3.8.2 64-bit"
  }
 },
 "nbformat": 4,
 "nbformat_minor": 2,
 "cells": [
  {
   "cell_type": "code",
   "execution_count": 1,
   "metadata": {
    "tags": []
   },
   "outputs": [],
   "source": [
    "import tweepy\n",
    "import credentials\n",
    "import numpy as np\n",
    "import pandas as pd\n",
    "import re\n",
    "import matplotlib.pyplot as plt\n",
    "import nltk\n",
    "from nltk.sentiment.vader import SentimentIntensityAnalyzer"
   ]
  },
  {
   "cell_type": "code",
   "execution_count": 2,
   "metadata": {},
   "outputs": [],
   "source": [
    "# # # # TWITTER API AUTHENTICATOR # # # #\n",
    "\n",
    "def TwitterAuth():\n",
    "    authentication = tweepy.OAuthHandler(credentials.api_key,credentials.api_secret)\n",
    "    authentication.set_access_token(credentials.access_token,credentials.access_secret)\n",
    "    return authentication\n"
   ]
  },
  {
   "cell_type": "code",
   "execution_count": 3,
   "metadata": {},
   "outputs": [],
   "source": [
    "#list of query filters\n",
    "\n",
    "hashtag_query=['fuck off','bitch'] # hashtags to be searched\n"
   ]
  },
  {
   "cell_type": "code",
   "execution_count": 4,
   "metadata": {},
   "outputs": [],
   "source": [
    "# # # # CLEAN DATA # # # # \n",
    "def clean_tweet(tweet):\n",
    "    #replace @userid, urls with '' remove # symbols and remove RT strings\n",
    "    tweet=re.sub(r'@[A-Za-z0-9]+' ,'' ,tweet)\n",
    "    tweet=re.sub(r'#', '',tweet)\n",
    "    tweet=re.sub(r'RT[\\s]+', '' ,tweet)\n",
    "    tweet=re.sub(r'https?:\\/\\/\\S+' , '' ,tweet)\n",
    "    tweet=re.sub(r':', '',tweet)\n",
    "    tweet=re.sub(r'[^0-9A-Za-z \\t]','',tweet)\n",
    "\n",
    "    return(tweet)"
   ]
  },
  {
   "cell_type": "code",
   "execution_count": 5,
   "metadata": {},
   "outputs": [],
   "source": [
    "# # # # NLTK SENTIMENT ALALYSIS # # # #\n",
    "def sentiment_analyse(sentiment_text):\n",
    "    score = SentimentIntensityAnalyzer().polarity_scores(sentiment_text)\n",
    "    return score"
   ]
  },
  {
   "cell_type": "code",
   "execution_count": 6,
   "metadata": {
    "tags": []
   },
   "outputs": [
    {
     "output_type": "stream",
     "name": "stdout",
     "text": "<tweepy.auth.OAuthHandler object at 0x7f7bfd2b95b0>\n"
    }
   ],
   "source": [
    "# # # # STREAM TWEETS WITH API # # # #\n",
    "\n",
    "#n is number of tweets to be streamed in\n",
    "n=14\n",
    "\n",
    "api = tweepy.API(  TwitterAuth()  )\n",
    "public_tweets = api.search(hashtag_query,count=n,lang='en')\n",
    "\n",
    "#API.search(q[, geocode][, lang][, locale][, result_type][, count][, until][, since_id][, max_id][, include_entities])\n"
   ]
  },
  {
   "cell_type": "code",
   "execution_count": 7,
   "metadata": {},
   "outputs": [],
   "source": [
    "# # # # CREATING DATAFRAME # # # # \n",
    "df = pd.DataFrame(data=[clean_tweet(t.text) for t in public_tweets], columns=['twits'])\n",
    "#df['id']= np.array([twt.id for twt in public_tweets])"
   ]
  },
  {
   "cell_type": "code",
   "execution_count": 8,
   "metadata": {
    "tags": []
   },
   "outputs": [],
   "source": [
    "# # # # ADDING SUBJECTIVITY AND POLARITY TO DATA FRAME # # # #\n",
    "#df['confidence'] = np.array([sentiment_analyse(tweet) for tweet in df['twits']])\n",
    "df['positive'] = np.array([sentiment_analyse(clean_tweet(t.text))[\"pos\"] for t in public_tweets])\n",
    "df['negative'] = np.array([sentiment_analyse(clean_tweet(t.text))[\"neg\"] for t in public_tweets])\n",
    "df['neutral'] = np.array([sentiment_analyse(clean_tweet(t.text))[\"neu\"] for t in public_tweets])\n",
    "\n",
    "    \n"
   ]
  },
  {
   "cell_type": "code",
   "execution_count": 9,
   "metadata": {},
   "outputs": [
    {
     "output_type": "execute_result",
     "data": {
      "text/plain": "                                               twits  positive  negative  \\\n0  im saying this for the last time el insulted m...     0.000     0.270   \n1  nobody who watched it can bitch about it but I...     0.121     0.239   \n2   CITE the fuckin TOURISTampthe TRUMP RALLIES T...     0.000     0.458   \n3  Nothing pisses me off more than big stan accou...     0.211     0.000   \n4  Live is stalking my Twitter fuck off bitch bef...     0.055     0.495   \n5  People will build a bond with you just to cut ...     0.000     0.437   \n6  Yes Least intimidating good fighter ever Idk h...     0.461     0.146   \n7  Got back Florida with a different plan and my ...     0.056     0.318   \n8   CITE the fuckin TOURISTampthe TRUMP RALLIES T...     0.000     0.458   \n9        FIRST OFF FUCK YO BITCH N THE CLICK U CALIM     0.000     0.549   \n\n   neutral  \n0    0.730  \n1    0.641  \n2    0.542  \n3    0.789  \n4    0.450  \n5    0.563  \n6    0.393  \n7    0.626  \n8    0.542  \n9    0.451  ",
      "text/html": "<div>\n<style scoped>\n    .dataframe tbody tr th:only-of-type {\n        vertical-align: middle;\n    }\n\n    .dataframe tbody tr th {\n        vertical-align: top;\n    }\n\n    .dataframe thead th {\n        text-align: right;\n    }\n</style>\n<table border=\"1\" class=\"dataframe\">\n  <thead>\n    <tr style=\"text-align: right;\">\n      <th></th>\n      <th>twits</th>\n      <th>positive</th>\n      <th>negative</th>\n      <th>neutral</th>\n    </tr>\n  </thead>\n  <tbody>\n    <tr>\n      <th>0</th>\n      <td>im saying this for the last time el insulted m...</td>\n      <td>0.000</td>\n      <td>0.270</td>\n      <td>0.730</td>\n    </tr>\n    <tr>\n      <th>1</th>\n      <td>nobody who watched it can bitch about it but I...</td>\n      <td>0.121</td>\n      <td>0.239</td>\n      <td>0.641</td>\n    </tr>\n    <tr>\n      <th>2</th>\n      <td>CITE the fuckin TOURISTampthe TRUMP RALLIES T...</td>\n      <td>0.000</td>\n      <td>0.458</td>\n      <td>0.542</td>\n    </tr>\n    <tr>\n      <th>3</th>\n      <td>Nothing pisses me off more than big stan accou...</td>\n      <td>0.211</td>\n      <td>0.000</td>\n      <td>0.789</td>\n    </tr>\n    <tr>\n      <th>4</th>\n      <td>Live is stalking my Twitter fuck off bitch bef...</td>\n      <td>0.055</td>\n      <td>0.495</td>\n      <td>0.450</td>\n    </tr>\n    <tr>\n      <th>5</th>\n      <td>People will build a bond with you just to cut ...</td>\n      <td>0.000</td>\n      <td>0.437</td>\n      <td>0.563</td>\n    </tr>\n    <tr>\n      <th>6</th>\n      <td>Yes Least intimidating good fighter ever Idk h...</td>\n      <td>0.461</td>\n      <td>0.146</td>\n      <td>0.393</td>\n    </tr>\n    <tr>\n      <th>7</th>\n      <td>Got back Florida with a different plan and my ...</td>\n      <td>0.056</td>\n      <td>0.318</td>\n      <td>0.626</td>\n    </tr>\n    <tr>\n      <th>8</th>\n      <td>CITE the fuckin TOURISTampthe TRUMP RALLIES T...</td>\n      <td>0.000</td>\n      <td>0.458</td>\n      <td>0.542</td>\n    </tr>\n    <tr>\n      <th>9</th>\n      <td>FIRST OFF FUCK YO BITCH N THE CLICK U CALIM</td>\n      <td>0.000</td>\n      <td>0.549</td>\n      <td>0.451</td>\n    </tr>\n  </tbody>\n</table>\n</div>"
     },
     "metadata": {},
     "execution_count": 9
    }
   ],
   "source": [
    "df"
   ]
  },
  {
   "cell_type": "code",
   "execution_count": null,
   "metadata": {},
   "outputs": [],
   "source": []
  }
 ]
}