{
 "metadata": {
  "language_info": {
   "codemirror_mode": {
    "name": "ipython",
    "version": 3
   },
   "file_extension": ".py",
   "mimetype": "text/x-python",
   "name": "python",
   "nbconvert_exporter": "python",
   "pygments_lexer": "ipython3",
   "version": "3.8.2-final"
  },
  "orig_nbformat": 2,
  "kernelspec": {
   "name": "python_defaultSpec_1600580938584",
   "display_name": "Python 3.8.2 64-bit"
  }
 },
 "nbformat": 4,
 "nbformat_minor": 2,
 "cells": [
  {
   "cell_type": "code",
   "execution_count": 11,
   "metadata": {},
   "outputs": [],
   "source": [
    "import tweepy\n",
    "from textblob import TextBlob\n",
    "import credentials\n",
    "import numpy as np\n",
    "import pandas as pd\n",
    "import re"
   ]
  },
  {
   "cell_type": "code",
   "execution_count": 12,
   "metadata": {},
   "outputs": [],
   "source": [
    "# # # # TWITTER API AUTHENTICATOR # # # #\n",
    "\n",
    "def TwitterAuth():\n",
    "    authentication = tweepy.OAuthHandler(credentials.api_key,credentials.api_secret)\n",
    "    authentication.set_access_token(credentials.access_token,credentials.access_secret)\n",
    "    return authentication\n"
   ]
  },
  {
   "cell_type": "code",
   "execution_count": 13,
   "metadata": {},
   "outputs": [],
   "source": [
    "#list of query filters\n",
    "\n",
    "hashtag_query=['fuck off','bitch'] # hashtags to be searched\n"
   ]
  },
  {
   "cell_type": "code",
   "execution_count": 14,
   "metadata": {},
   "outputs": [],
   "source": [
    "# # # # CLEAN DATA # # # # \n",
    "def clean_tweet(tweet):\n",
    "    #replace @userid, urls with '' remove # symbols and remove RT strings\n",
    "    tweet=re.sub(r'@[A-Za-z0-9]+' ,'' ,tweet)\n",
    "    tweet=re.sub(r'#', '',tweet)\n",
    "    tweet=re.sub(r'RT[\\s]+', '' ,tweet)\n",
    "    tweet=re.sub(r'https?:\\/\\/\\S+' , '' ,tweet)\n",
    "    tweet=re.sub(r':', '',tweet)\n",
    "    tweet=re.sub(r'[^0-9A-Za-z \\t]','',tweet)\n",
    "    tweet=re.sub(r'[/t]','',tweet)\n",
    "    return(tweet)"
   ]
  },
  {
   "cell_type": "code",
   "execution_count": 15,
   "metadata": {},
   "outputs": [],
   "source": [
    "# # # # TEXTBLOB POLARITY # # # #\n",
    "def analyze_polarity(tweet):\n",
    "    summary = TextBlob(tweet)\n",
    "    return summary.sentiment.polarity \n"
   ]
  },
  {
   "cell_type": "code",
   "execution_count": 16,
   "metadata": {},
   "outputs": [],
   "source": [
    "# # # # TEXTBLOB SUBJECTIVITY # # # #\n",
    "def analyze_subjectivity(tweet):\n",
    "    summary = TextBlob(tweet)\n",
    "    return summary.sentiment.subjectivity \n"
   ]
  },
  {
   "cell_type": "code",
   "execution_count": 17,
   "metadata": {
    "tags": []
   },
   "outputs": [],
   "source": [
    "# # # # STREAM TWEETS WITH API # # # #\n",
    "\n",
    "#n is number of tweets to be streamed in\n",
    "n=14\n",
    "\n",
    "api = tweepy.API(  TwitterAuth()  )\n",
    "public_tweets = api.search(hashtag_query,count=n,lang='en')\n",
    "\n",
    "#API.search(q[, geocode][, lang][, locale][, result_type][, count][, until][, since_id][, max_id][, include_entities])"
   ]
  },
  {
   "cell_type": "code",
   "execution_count": 18,
   "metadata": {
    "tags": []
   },
   "outputs": [],
   "source": [
    "# # # # CREATING DATAFRAME # # # # \n",
    "df = pd.DataFrame(data=[clean_tweet(t.text) for t in public_tweets], columns=['twits'])\n",
    "#df['id']= np.array([twt.id for twt in public_tweets])\n"
   ]
  },
  {
   "cell_type": "code",
   "execution_count": 19,
   "metadata": {},
   "outputs": [],
   "source": [
    "# # # # ADDING SUBJECTIVITY AND POLARITY TO DATA FRAME # # # #\n",
    "df['subjectivity'] = np.array([analyze_subjectivity(tweet) for tweet in df['twits']])\n",
    "df['polarity'] = np.array([analyze_polarity(tweet) for tweet in df['twits']])"
   ]
  },
  {
   "cell_type": "code",
   "execution_count": 20,
   "metadata": {
    "tags": []
   },
   "outputs": [
    {
     "output_type": "stream",
     "name": "stdout",
     "text": "twits  subjectivity  polarity\n0   Hay reianna I heard your rying o accuse one o...          0.60     -0.40\n1  Chile lemme shif o a world where my Apple ID W...          0.55     -0.40\n2  Hay reianna I heard your rying o accuse one of...          0.60     -0.40\n3  among usMe x some random bich ha voed me off w...          0.55     -0.45\n4  Im Acua saring o piss myself off a he fac I si...          0.80     -0.60\n5  Grip OH MA FUCKING GOD BITCH YOURE STILL ALIVE...          0.60     -0.30\n6             Fuck T Woods made rack off ha hoe bich          0.60     -0.40\n7  saw a girl from my school who looks like selen...          0.65      0.55\n8                                      bich fuck off          0.60     -0.40\n9  yall be some fuckin cheaers fuck off because I...          0.60     -0.40\n"
    }
   ],
   "source": [
    "print(df)"
   ]
  },
  {
   "cell_type": "code",
   "execution_count": null,
   "metadata": {},
   "outputs": [],
   "source": []
  }
 ]
}