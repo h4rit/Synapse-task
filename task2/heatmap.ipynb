{
 "metadata": {
  "language_info": {
   "codemirror_mode": {
    "name": "ipython",
    "version": 3
   },
   "file_extension": ".py",
   "mimetype": "text/x-python",
   "name": "python",
   "nbconvert_exporter": "python",
   "pygments_lexer": "ipython3",
   "version": "3.8.2-final"
  },
  "orig_nbformat": 2,
  "kernelspec": {
   "name": "python_defaultSpec_1600594993691",
   "display_name": "Python 3.8.2 64-bit"
  }
 },
 "nbformat": 4,
 "nbformat_minor": 2,
 "cells": [
  {
   "cell_type": "code",
   "execution_count": 27,
   "metadata": {},
   "outputs": [],
   "source": [
    "import json\n",
    "import pandas as pd\n",
    "import numpy as np"
   ]
  },
  {
   "cell_type": "code",
   "execution_count": 28,
   "metadata": {},
   "outputs": [],
   "source": [
    "# # # # READ DATA # # # #\n",
    "with open('./data.json','r') as d:\n",
    "    data= d.read()\n"
   ]
  },
  {
   "cell_type": "code",
   "execution_count": 29,
   "metadata": {},
   "outputs": [],
   "source": [
    "# # # # READ STRING TYPE DATA TO OBJ # # # #\n",
    "obj= json.loads(data)"
   ]
  },
  {
   "cell_type": "code",
   "execution_count": 30,
   "metadata": {},
   "outputs": [],
   "source": [
    "x=obj['data']"
   ]
  },
  {
   "cell_type": "code",
   "execution_count": 31,
   "metadata": {
    "tags": []
   },
   "outputs": [],
   "source": [
    "# # # # CREATE DATAFRAME TO EASILY HANDLE DATA # # # #\n",
    "df =pd.DataFrame(data=x)\n"
   ]
  },
  {
   "cell_type": "code",
   "execution_count": 32,
   "metadata": {},
   "outputs": [],
   "source": [
    "# # # # ADD LATITUDE AND LONGITUDE AND STATE COLUMNS # # # #\n",
    "df['latitude']=np.array([i['location']['latitude'] for i in x],dtype=float)\n",
    "\n",
    "df['longitude']=np.array([i['location']['longitude'] for i in x],dtype=float)\n",
    "\n",
    "df['state']=np.array([i['location']['state'] for i in x],dtype=str)"
   ]
  },
  {
   "cell_type": "code",
   "execution_count": 33,
   "metadata": {},
   "outputs": [],
   "source": [
    "# # # # REMOVE LOCATION, AMOUNT COLUMNS# # # #\n",
    "df.drop('location',inplace=True,axis=1)\n",
    "df.drop('amount',axis=1,inplace=True)"
   ]
  },
  {
   "cell_type": "code",
   "execution_count": 34,
   "metadata": {},
   "outputs": [],
   "source": [
    "# # # # REMOVE USELESS CATEGORIES # # # #\n",
    "df.set_index('category',inplace=True)\n",
    "df.drop(index=['Technology'],inplace=True)\n",
    "df.drop(index=['Fashion'],inplace=True)\n",
    "df.drop(index=['Games'],inplace=True)\n",
    "\n",
    "df.reset_index(inplace=True)"
   ]
  },
  {
   "cell_type": "code",
   "execution_count": 35,
   "metadata": {
    "tags": []
   },
   "outputs": [],
   "source": [
    "# # # # REMOVING MULTIPLE DATA ENTRIES FROM SINGLE USER # # # # \n",
    "\n",
    "#df[df['session_id']=='69f62d2ae87640f5a2dde2b2e9229fe6'] gives 8 indexes with same location\n",
    "df.drop_duplicates(subset='session_id',inplace=True)\n",
    "\n",
    "\n",
    "df.reset_index(inplace=True)"
   ]
  },
  {
   "cell_type": "code",
   "execution_count": 36,
   "metadata": {},
   "outputs": [],
   "source": [
    "df.drop('index',axis=1,inplace=True)"
   ]
  },
  {
   "cell_type": "code",
   "execution_count": 37,
   "metadata": {},
   "outputs": [],
   "source": [
    "df.to_csv(\"df_data.csv\")"
   ]
  },
  {
   "cell_type": "code",
   "execution_count": 38,
   "metadata": {},
   "outputs": [],
   "source": [
    "dff=df[['latitude','longitude']]"
   ]
  },
  {
   "cell_type": "code",
   "execution_count": 39,
   "metadata": {},
   "outputs": [],
   "source": [
    "dff.to_excel('heatmap_points.xlsx')"
   ]
  }
 ]
}